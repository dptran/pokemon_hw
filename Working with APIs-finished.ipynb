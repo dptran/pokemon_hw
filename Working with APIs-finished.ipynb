{
 "cells": [
  {
   "cell_type": "code",
   "execution_count": null,
   "id": "d70dff5a",
   "metadata": {},
   "outputs": [],
   "source": [
    "# GET - retrieving any data that the server sends to the routes\n",
    "# POST - retrieving new data\n",
    "# PUT/UPDATE - updated any data\n",
    "# DELETE - delete any data"
   ]
  },
  {
   "cell_type": "code",
   "execution_count": null,
   "id": "896ee30c",
   "metadata": {},
   "outputs": [],
   "source": [
    "# {\n",
    "#     'name'\n",
    "# }"
   ]
  },
  {
   "cell_type": "code",
   "execution_count": 1,
   "id": "e7cb6b24",
   "metadata": {},
   "outputs": [],
   "source": [
    "import requests"
   ]
  },
  {
   "cell_type": "code",
   "execution_count": 8,
   "id": "5f684ac6",
   "metadata": {},
   "outputs": [],
   "source": [
    "# dir(requests)\n",
    "data = requests.get('https://ergast.com/api/f1/2008/5/driverStandings.json')"
   ]
  },
  {
   "cell_type": "code",
   "execution_count": 12,
   "id": "de37efca",
   "metadata": {},
   "outputs": [],
   "source": [
    "# dir(data)\n",
    "racers = data.json()['MRData']['StandingsTable']['StandingsLists'][0]['DriverStandings']"
   ]
  },
  {
   "cell_type": "code",
   "execution_count": 24,
   "id": "859f7ce0",
   "metadata": {},
   "outputs": [],
   "source": [
    "class Racer:\n",
    "    _all = []\n",
    "    \n",
    "    def __init__(self, pos, pts, wins, gn, fn, dob, ntlty, cnstr):\n",
    "        self.pos = pos \n",
    "        self.pts = pts \n",
    "        self.wins = wins \n",
    "        self.gn = gn \n",
    "        self.fn = fn \n",
    "        self.dob = dob \n",
    "        self.ntlty = ntlty \n",
    "        self.cnstr = cnstr\n",
    "        self._all.append(self)\n",
    "        \n",
    "    def __repr__(self):\n",
    "        return f'<Racer: {self.gn} {self.fn}>'"
   ]
  },
  {
   "cell_type": "code",
   "execution_count": 25,
   "id": "d575eb1c",
   "metadata": {},
   "outputs": [
    {
     "name": "stdout",
     "output_type": "stream",
     "text": [
      "{'position': '1', 'positionText': '1', 'points': '35', 'wins': '2', 'Driver': {'driverId': 'raikkonen', 'permanentNumber': '7', 'code': 'RAI', 'url': 'http://en.wikipedia.org/wiki/Kimi_R%C3%A4ikk%C3%B6nen', 'givenName': 'Kimi', 'familyName': 'Räikkönen', 'dateOfBirth': '1979-10-17', 'nationality': 'Finnish'}, 'Constructors': [{'constructorId': 'ferrari', 'url': 'http://en.wikipedia.org/wiki/Scuderia_Ferrari', 'name': 'Ferrari', 'nationality': 'Italian'}]}\n"
     ]
    }
   ],
   "source": [
    "for i in racers:\n",
    "    print(i)\n",
    "    break"
   ]
  },
  {
   "cell_type": "code",
   "execution_count": 26,
   "id": "9519e359",
   "metadata": {},
   "outputs": [],
   "source": [
    "for i in racers:\n",
    "    Racer(\n",
    "        pos=i['position'],\n",
    "        pts=i['points'],\n",
    "        wins=i['wins'],\n",
    "        gn=i['Driver']['givenName'],\n",
    "        fn=i['Driver']['familyName'],\n",
    "        dob=i['Driver']['dateOfBirth'],\n",
    "        ntlty=i['Driver']['nationality'],\n",
    "        cnstr=i['Constructors'][0]['name']\n",
    "    )"
   ]
  },
  {
   "cell_type": "code",
   "execution_count": 28,
   "id": "7c1300a2",
   "metadata": {},
   "outputs": [
    {
     "data": {
      "text/plain": [
       "{'pos': '1',\n",
       " 'pts': '35',\n",
       " 'wins': '2',\n",
       " 'gn': 'Kimi',\n",
       " 'fn': 'Räikkönen',\n",
       " 'dob': '1979-10-17',\n",
       " 'ntlty': 'Finnish',\n",
       " 'cnstr': 'Ferrari'}"
      ]
     },
     "execution_count": 28,
     "metadata": {},
     "output_type": "execute_result"
    }
   ],
   "source": [
    "Racer._all[0].__dict__"
   ]
  }
 ],
 "metadata": {
  "kernelspec": {
   "display_name": "Python 3",
   "language": "python",
   "name": "python3"
  },
  "language_info": {
   "codemirror_mode": {
    "name": "ipython",
    "version": 3
   },
   "file_extension": ".py",
   "mimetype": "text/x-python",
   "name": "python",
   "nbconvert_exporter": "python",
   "pygments_lexer": "ipython3",
   "version": "3.8.8"
  }
 },
 "nbformat": 4,
 "nbformat_minor": 5
}
