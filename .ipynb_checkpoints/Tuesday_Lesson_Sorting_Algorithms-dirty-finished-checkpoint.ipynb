{
 "cells": [
  {
   "cell_type": "markdown",
   "metadata": {},
   "source": [
    "## Tasks Today:\n",
    "\n",
    "1) <b><a href=\"#insertion-sort\">Insertion Sort</a></b> <br>\n",
    "2) <b><a href=\"#bubble-sort\">Bubble Sort</a></b> <br>\n",
    "3) <b><a href=\"#selection-sort\">Selection Sort</a></b> <br>\n",
    "4) <b><a href=\"#merge-sort\">Merge Sort</a></b> <br>"
   ]
  },
  {
   "cell_type": "code",
   "execution_count": 2,
   "metadata": {},
   "outputs": [
    {
     "data": {
      "text/plain": [
       "[63, 6, 85, 32, 32, 63, 33, 20, 20, 68]"
      ]
     },
     "execution_count": 2,
     "metadata": {},
     "output_type": "execute_result"
    }
   ],
   "source": [
    "import random\n",
    "\n",
    "unsorted_list = [random.randint(1, 100) for i in range(10)]\n",
    "unsorted_list"
   ]
  },
  {
   "cell_type": "markdown",
   "metadata": {},
   "source": [
    "<h2 id=\"insertion-sort\">Insertion Sort</h2>"
   ]
  },
  {
   "cell_type": "code",
   "execution_count": 12,
   "metadata": {},
   "outputs": [
    {
     "name": "stdout",
     "output_type": "stream",
     "text": [
      "Unsorted List: [63, 6, 85, 32, 32, 63, 33, 20, 20, 68]\n",
      "Sorted List: [6, 20, 20, 32, 32, 33, 63, 63, 68, 85]\n"
     ]
    }
   ],
   "source": [
    "def insertion_sort(a_list):\n",
    "    our_list = a_list.copy()\n",
    "    print('Unsorted List:', our_list)\n",
    "    for idx in range(len(our_list)):\n",
    "        value_to_sort = our_list[idx]\n",
    "        \n",
    "        while our_list[idx-1] > value_to_sort and idx > 0:\n",
    "            our_list[idx], our_list[idx-1] = our_list[idx-1], our_list[idx]\n",
    "            idx-=1\n",
    "    print(\"Sorted List:\", our_list)\n",
    "    \n",
    "insertion_sort(unsorted_list)"
   ]
  },
  {
   "cell_type": "markdown",
   "metadata": {},
   "source": [
    "<h2 id=\"bubble-sort\">Bubble Sort</h2>"
   ]
  },
  {
   "cell_type": "code",
   "execution_count": 10,
   "metadata": {},
   "outputs": [
    {
     "name": "stdout",
     "output_type": "stream",
     "text": [
      "Unsorted List: [63, 6, 85, 32, 32, 63, 33, 20, 20, 68]\n",
      "Sorted List: [6, 20, 20, 32, 32, 33, 63, 63, 68, 85]\n"
     ]
    }
   ],
   "source": [
    "def bubble_sort(a_list):\n",
    "    our_list = a_list.copy()\n",
    "    print('Unsorted List:', our_list)\n",
    "    \n",
    "    # loop through the list. The algo will always put the highest number last, so it will perform a \n",
    "    # shrinking sort\n",
    "    for i in range(len(our_list) - 1):\n",
    "        # grab the values at each index\n",
    "        for j in range(len(our_list) - i - 1):\n",
    "            # if value at current index > value at following index\n",
    "            if our_list[j] > our_list[j+1]:\n",
    "                \n",
    "                # older way before Python double-swapping became a thing\n",
    "                temp = our_list[j+1]\n",
    "                our_list[j+1] = our_list[j]\n",
    "                our_list[j] = temp\n",
    "                \n",
    "                # double swapping now a thing\n",
    "                # our_list[j], our_list[j+1] = our_list[j+1], our_list[j]\n",
    "    print(\"Sorted List:\", our_list)\n",
    "    \n",
    "bubble_sort(unsorted_list)"
   ]
  },
  {
   "cell_type": "markdown",
   "metadata": {},
   "source": [
    "<h2 id=\"Selection-sort\">Selection Sort</h2>"
   ]
  },
  {
   "cell_type": "code",
   "execution_count": 14,
   "metadata": {},
   "outputs": [
    {
     "name": "stdout",
     "output_type": "stream",
     "text": [
      "Unsorted List: [63, 6, 85, 32, 32, 63, 33, 20, 20, 68]\n",
      "Sorted List: [6, 20, 20, 32, 32, 33, 63, 63, 68, 85]\n"
     ]
    }
   ],
   "source": [
    "def selection_sort(a_list):\n",
    "    our_list = a_list.copy()\n",
    "    print('Unsorted List:', our_list)\n",
    "    \n",
    "    # loop through list\n",
    "    # once we got to the last item, there's nothing to look for afterward\n",
    "    for current_index in range(len(our_list) - 1):\n",
    "        min_value_index = current_index\n",
    "        # get the element to the right of the current index\n",
    "        for j in range(current_index + 1, len(our_list)):\n",
    "            # if the value is less than the index that hold the minimum value\n",
    "            if our_list[j] < our_list[min_value_index]:\n",
    "                # set the new minimum value\n",
    "                min_value_index = j\n",
    "        # if we found the item that had the lower value\n",
    "        if min_value_index != current_index:\n",
    "            # swap the number where it needs to go\n",
    "            our_list[min_value_index], our_list[current_index] = our_list[current_index], our_list[min_value_index]\n",
    "    print(\"Sorted List:\", our_list)\n",
    "    \n",
    "selection_sort(unsorted_list)"
   ]
  },
  {
   "cell_type": "markdown",
   "metadata": {},
   "source": [
    "<h2 id=\"merge-sort\">Merge Sort</h2>"
   ]
  },
  {
   "cell_type": "code",
   "execution_count": 20,
   "metadata": {},
   "outputs": [],
   "source": [
    "def merge(list_a, list_b):\n",
    "    list_c = []\n",
    "    \n",
    "    # if neither list is empty\n",
    "    while list_a and list_b:\n",
    "        # compare the 0th-index of each list\n",
    "        if list_a[0] > list_b[0]:\n",
    "            list_c.append(list_b.pop(0))\n",
    "        else:\n",
    "            list_c.append(list_a.pop(0))\n",
    "    # list_a should be empty, merge the sorted values from list_a into list_c\n",
    "    while list_a:\n",
    "        list_c.append(list_a.pop(0))\n",
    "        \n",
    "    # list_b should be empty, merge the sorted values from list_a into list_c\n",
    "    while list_b:\n",
    "        list_c.append(list_b.pop(0))\n",
    "        \n",
    "    return list_c\n",
    "    \n",
    "def merge_sort(a_list):\n",
    "    our_list = a_list.copy()\n",
    "    \n",
    "    # base case\n",
    "    if len(our_list) <= 1:\n",
    "        return our_list\n",
    "    \n",
    "    # create mid-point/find a middle index\n",
    "    mid = len(our_list) // 2\n",
    "    \n",
    "    # separate list into halves\n",
    "    left = merge_sort(our_list[:mid])\n",
    "    right = merge_sort(our_list[mid:])\n",
    "    \n",
    "    # merge the two lists together\n",
    "    return merge(left, right)"
   ]
  },
  {
   "cell_type": "code",
   "execution_count": 21,
   "metadata": {},
   "outputs": [
    {
     "data": {
      "text/plain": [
       "[6, 20, 20, 32, 32, 33, 63, 63, 68, 85]"
      ]
     },
     "execution_count": 21,
     "metadata": {},
     "output_type": "execute_result"
    }
   ],
   "source": [
    "merge_sort(unsorted_list)"
   ]
  }
 ],
 "metadata": {
  "kernelspec": {
   "display_name": "Python 3",
   "language": "python",
   "name": "python3"
  },
  "language_info": {
   "codemirror_mode": {
    "name": "ipython",
    "version": 3
   },
   "file_extension": ".py",
   "mimetype": "text/x-python",
   "name": "python",
   "nbconvert_exporter": "python",
   "pygments_lexer": "ipython3",
   "version": "3.8.8"
  }
 },
 "nbformat": 4,
 "nbformat_minor": 4
}
